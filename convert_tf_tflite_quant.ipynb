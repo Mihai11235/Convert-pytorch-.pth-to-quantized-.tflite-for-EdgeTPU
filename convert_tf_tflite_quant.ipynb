{
 "cells": [
  {
   "cell_type": "code",
   "execution_count": 1,
   "id": "eaf29f26-af1d-4667-8328-bd4886acecd0",
   "metadata": {},
   "outputs": [
    {
     "name": "stderr",
     "output_type": "stream",
     "text": [
      "2025-06-14 16:33:04.541541: E external/local_xla/xla/stream_executor/cuda/cuda_fft.cc:467] Unable to register cuFFT factory: Attempting to register factory for plugin cuFFT when one has already been registered\n",
      "WARNING: All log messages before absl::InitializeLog() is called are written to STDERR\n",
      "E0000 00:00:1749907984.558026  880490 cuda_dnn.cc:8579] Unable to register cuDNN factory: Attempting to register factory for plugin cuDNN when one has already been registered\n",
      "E0000 00:00:1749907984.563114  880490 cuda_blas.cc:1407] Unable to register cuBLAS factory: Attempting to register factory for plugin cuBLAS when one has already been registered\n",
      "W0000 00:00:1749907984.576150  880490 computation_placer.cc:177] computation placer already registered. Please check linkage and avoid linking the same target more than once.\n",
      "W0000 00:00:1749907984.576169  880490 computation_placer.cc:177] computation placer already registered. Please check linkage and avoid linking the same target more than once.\n",
      "W0000 00:00:1749907984.576172  880490 computation_placer.cc:177] computation placer already registered. Please check linkage and avoid linking the same target more than once.\n",
      "W0000 00:00:1749907984.576174  880490 computation_placer.cc:177] computation placer already registered. Please check linkage and avoid linking the same target more than once.\n",
      "2025-06-14 16:33:04.581075: I tensorflow/core/platform/cpu_feature_guard.cc:210] This TensorFlow binary is optimized to use available CPU instructions in performance-critical operations.\n",
      "To enable the following instructions: AVX2 FMA, in other operations, rebuild TensorFlow with the appropriate compiler flags.\n",
      "I0000 00:00:1749907987.051778  880490 gpu_device.cc:2019] Created device /job:localhost/replica:0/task:0/device:GPU:0 with 6283 MB memory:  -> device: 0, name: GRID A100D-20C, pci bus id: 0000:02:00.0, compute capability: 8.0\n"
     ]
    }
   ],
   "source": [
    "import tensorflow as tf\n",
    "from utils_tf import load_data_local_tf_1\n",
    "import os\n",
    "import numpy as np\n",
    "from PIL import Image\n",
    "\n",
    "# Load the datasets\n",
    "train_ds, _, _ = load_data_local_tf_1(batch_size=1, target_size=(256, 256))\n",
    "\n",
    "def representative_dataset():\n",
    "    image_dir = './copied/Dataset/100k_images_train/bdd100k/images/100k/train'\n",
    "    image_files = sorted([\n",
    "        os.path.join(image_dir, fname)\n",
    "        for fname in os.listdir(image_dir) if fname.endswith('.jpg')\n",
    "    ])\n",
    "    for img_path in image_files[:100]:\n",
    "        img = Image.open(img_path).convert('RGB').resize((256, 256))\n",
    "        img = np.array(img).astype(np.float32) / 255.0\n",
    "        img = np.expand_dims(img, axis=0)  # NHWC\n",
    "        yield [img]"
   ]
  },
  {
   "cell_type": "code",
   "execution_count": null,
   "id": "ae8dd6ff-d2ad-4f7d-9af9-555456ecf403",
   "metadata": {},
   "outputs": [
    {
     "name": "stderr",
     "output_type": "stream",
     "text": [
      "WARNING: All log messages before absl::InitializeLog() is called are written to STDERR\n",
      "W0000 00:00:1749908055.256122  880490 tf_tfl_flatbuffer_helpers.cc:365] Ignored output_format.\n",
      "W0000 00:00:1749908055.256167  880490 tf_tfl_flatbuffer_helpers.cc:368] Ignored drop_control_dependency.\n",
      "2025-06-14 16:34:15.256775: I tensorflow/cc/saved_model/reader.cc:83] Reading SavedModel from: smallunet_model_tf_fixed_test\n",
      "2025-06-14 16:34:15.264786: I tensorflow/cc/saved_model/reader.cc:52] Reading meta graph with tags { serve }\n",
      "2025-06-14 16:34:15.264806: I tensorflow/cc/saved_model/reader.cc:147] Reading SavedModel debug info (if present) from: smallunet_model_tf_fixed_test\n",
      "I0000 00:00:1749908055.294064  880490 mlir_graph_optimization_pass.cc:425] MLIR V1 optimization pass is not enabled\n",
      "2025-06-14 16:34:15.295055: I tensorflow/cc/saved_model/loader.cc:236] Restoring SavedModel bundle.\n",
      "2025-06-14 16:34:15.333666: I tensorflow/cc/saved_model/loader.cc:220] Running initialization op on SavedModel bundle at path: smallunet_model_tf_fixed_test\n",
      "2025-06-14 16:34:15.363391: I tensorflow/cc/saved_model/loader.cc:471] SavedModel load for tags { serve }; Status: success: OK. Took 106619 microseconds.\n",
      "2025-06-14 16:34:15.459926: I tensorflow/compiler/mlir/tensorflow/utils/dump_mlir_util.cc:269] disabling MLIR crash reproducer, set env var `MLIR_CRASH_REPRODUCER_DIRECTORY` to enable.\n",
      "2025-06-14 16:34:16.052380: I tensorflow/compiler/mlir/lite/flatbuffer_export.cc:4061] Estimated count of arithmetic ops: 24.167 G  ops, equivalently 12.083 G  MACs\n"
     ]
    }
   ],
   "source": [
    "\n",
    "import tensorflow as tf\n",
    "import os\n",
    "from PIL import Image\n",
    "import numpy as np\n",
    "\n",
    "# Load working SavedModel\n",
    "model_path = \"smallunet_model_tf_fixed_test\"\n",
    "converter = tf.lite.TFLiteConverter.from_saved_model(model_path)\n",
    "\n",
    "# Enable quantization\n",
    "converter.optimizations = [tf.lite.Optimize.DEFAULT]\n",
    "converter.representative_dataset = representative_dataset\n",
    "converter.target_spec.supported_ops = [tf.lite.OpsSet.TFLITE_BUILTINS_INT8]\n",
    "converter.inference_input_type = tf.uint8\n",
    "converter.inference_output_type = tf.uint8\n",
    "\n",
    "# Convert\n",
    "tflite_model = converter.convert()\n",
    "with open(\"smallunet_model_quant.tflite\", \"wb\") as f:\n",
    "    f.write(tflite_model)"
   ]
  }
 ],
 "metadata": {
  "kernelspec": {
   "display_name": "venv",
   "language": "python",
   "name": "venv"
  },
  "language_info": {
   "codemirror_mode": {
    "name": "ipython",
    "version": 3
   },
   "file_extension": ".py",
   "mimetype": "text/x-python",
   "name": "python",
   "nbconvert_exporter": "python",
   "pygments_lexer": "ipython3",
   "version": "3.11.2"
  }
 },
 "nbformat": 4,
 "nbformat_minor": 5
}
